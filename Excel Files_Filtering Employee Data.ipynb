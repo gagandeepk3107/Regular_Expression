{
 "cells": [
  {
   "cell_type": "markdown",
   "metadata": {},
   "source": [
    "# Regular Expressions in Excel Files: Filtering Employee Data"
   ]
  },
  {
   "cell_type": "code",
   "execution_count": 7,
   "metadata": {},
   "outputs": [],
   "source": [
    "import re"
   ]
  },
  {
   "cell_type": "code",
   "execution_count": 2,
   "metadata": {},
   "outputs": [],
   "source": [
    "import openpyxl"
   ]
  },
  {
   "cell_type": "code",
   "execution_count": 3,
   "metadata": {},
   "outputs": [],
   "source": [
    "#Replace with your own path below\n",
    "workbook = openpyxl.load_workbook(r\"Employees.xlsx\")"
   ]
  },
  {
   "cell_type": "code",
   "execution_count": 4,
   "metadata": {},
   "outputs": [],
   "source": [
    " \n",
    "#Referencing the EmployeeData sheet\n",
    "sheet = workbook[\"EmployeeData\"]"
   ]
  },
  {
   "cell_type": "code",
   "execution_count": 5,
   "metadata": {},
   "outputs": [
    {
     "name": "stdout",
     "output_type": "stream",
     "text": [
      "ID;FirstName;LastName;Department;Phone;Address;Salary\n",
      "1;Luke;Phillip;Sales;5564567890;1st Address, Miami;25000\n",
      "2;Jack;Darren;IT;3444567891;2nd Address, Chicago;33600\n",
      "3;Ken;Wood;IT;5524567892;3rd Address, LA;41150\n",
      "4;John;Wilson;Marketing;1124567893;4th Address, Chicago;50000\n",
      "5;Emily;Larson;Marketing;1234567894;5th Address, Miami;48700\n",
      "6;Anna;Sullivan;Sales;3324567895;6th Address, Miami;29000\n",
      "7;Richard;Smith;Logistics;6894567896;7th Address, New York;66000\n",
      "8;Ronnie;Moore;Sales;8974567897;8th Address, New York;87000\n",
      "9;Andrew;Drake;IT;6654567898;9th Address, Las Vegas;66900\n",
      "10;Wayne;Barker;Logistics;9884567899;10th Address, Las Vegas;89000\n",
      "11;Gina;Baker;Logistics;1154567900;11th Address, Chicago;31800\n",
      "12;Andy;Williams;HR;1094567901;12th Address, Chicago;65500\n",
      "13;Jack;Wood;Logistics;2044567902;13th Address, New York;90300\n",
      "14;Jane;Phills;HR;1664567903;14th Address, New York;77700\n",
      "15;Ron;Johnson;Sales;1664567904;15th Address, New York;26250\n",
      "16;Jackie;Stanley;Sales;6894567905;16th Address, Las Vegas;38400\n",
      "17;Charles;Meyer;Marketing;1154567906;17th Address, Las Vegas;47000\n",
      "18;Charlie;Smith;Marketing;9884567907;18th Address, Las Vegas;49000\n",
      "19;Wayne;Andrews;Sales;3324567908;19th Address, LA;52000\n",
      "20;Adrian;Harrison;IT;1234567909;20th Address, LA;21160\n"
     ]
    }
   ],
   "source": [
    "\n",
    " \n",
    "#Creating the empty list to store the data\n",
    "data = []\n",
    " \n",
    "#Iterating over sheet.values and appending the data as strings\n",
    "for row in sheet.values:\n",
    "    a, b, c, d, e, f, g = row\n",
    "    data.append(\"{};{};{};{};{};{};{}\".format(a, b, c, d, e, f, g))\n",
    " \n",
    "#Joining the strings in the data list using the \\n as a delimiter\n",
    "employees = \"\\n\".join(data)\n",
    "print(employees)"
   ]
  },
  {
   "cell_type": "code",
   "execution_count": 35,
   "metadata": {},
   "outputs": [
    {
     "data": {
      "text/plain": [
       "['31800']"
      ]
     },
     "execution_count": 35,
     "metadata": {},
     "output_type": "execute_result"
    }
   ],
   "source": []
  },
  {
   "cell_type": "code",
   "execution_count": 6,
   "metadata": {},
   "outputs": [],
   "source": [
    "# Filtering the Data"
   ]
  },
  {
   "cell_type": "code",
   "execution_count": 10,
   "metadata": {},
   "outputs": [
    {
     "data": {
      "text/plain": [
       "['Phillip', 'Sullivan', 'Johnson']"
      ]
     },
     "execution_count": 10,
     "metadata": {},
     "output_type": "execute_result"
    }
   ],
   "source": [
    "# Last Name of the all employees whose salary Greater than 24000 and less than 30000\n",
    "\n",
    "s1 = re.findall(r\"\\d{1,};.+?;(.+?);.+;2[4-9]\\d{3}\", employees)\n",
    "s1"
   ]
  },
  {
   "cell_type": "code",
   "execution_count": 14,
   "metadata": {},
   "outputs": [
    {
     "data": {
      "text/plain": [
       "['Wood', 'Drake', 'Meyer', 'Smith']"
      ]
     },
     "execution_count": 14,
     "metadata": {},
     "output_type": "execute_result"
    }
   ],
   "source": [
    "# All the employees who work in I.T or Marketing and Last name less than 5 character\n",
    "\n",
    "s2 = re.findall(r\"\\d{1,};.+?;(\\w{1,5});(?:IT|Marketing);.+;\\d{5}\", employees)\n",
    "\n",
    "s2"
   ]
  },
  {
   "cell_type": "code",
   "execution_count": 16,
   "metadata": {},
   "outputs": [
    {
     "data": {
      "text/plain": [
       "['Ronnie']"
      ]
     },
     "execution_count": 16,
     "metadata": {},
     "output_type": "execute_result"
    }
   ],
   "source": [
    "# First name starts with P or asub sequent letter in english and\n",
    "# Phone number starts with even digit ends with odd\n",
    "\n",
    "s3 = re.findall(r\"\\d{1,};([P-Z].+?);.+;[2468]\\d{8}[13579];.+;\\d{5}\", employees)\n",
    "\n",
    "s3"
   ]
  },
  {
   "cell_type": "code",
   "execution_count": 18,
   "metadata": {},
   "outputs": [
    {
     "data": {
      "text/plain": [
       "[('Ronnie', 'Moore', '8974567897'), ('Ron', 'Johnson', '1664567904')]"
      ]
     },
     "execution_count": 18,
     "metadata": {},
     "output_type": "execute_result"
    }
   ],
   "source": [
    "# EMployees who are located in New york and working in sales department\n",
    "\n",
    "s4 = re.findall(r\"\\d{1,};(.+?);(.+?);Sales;(.+?);.+New York;\\d{5}\", employees)\n",
    "\n",
    "s4"
   ]
  },
  {
   "cell_type": "code",
   "execution_count": 20,
   "metadata": {},
   "outputs": [
    {
     "data": {
      "text/plain": [
       "['Darren',\n",
       " 'Wood',\n",
       " 'Wilson',\n",
       " 'Smith',\n",
       " 'Moore',\n",
       " 'Drake',\n",
       " 'Barker',\n",
       " 'Baker',\n",
       " 'Williams',\n",
       " 'Wood',\n",
       " 'Phills',\n",
       " 'Johnson',\n",
       " 'Stanley',\n",
       " 'Meyer',\n",
       " 'Smith',\n",
       " 'Andrews',\n",
       " 'Harrison']"
      ]
     },
     "execution_count": 20,
     "metadata": {},
     "output_type": "execute_result"
    }
   ],
   "source": [
    "# Match any employee thier adress is not from miami\n",
    "\n",
    "s5 = re.findall(r\"\\d{1,};.+?;(.+?);.+?;.+?;.+, (?!Miami)\", employees) # negative look ahead asertion\n",
    "\n",
    "s5"
   ]
  },
  {
   "cell_type": "code",
   "execution_count": 21,
   "metadata": {},
   "outputs": [],
   "source": [
    "# Last name of employee who work in 2 letter dept who earn between 30000 and 60000\n",
    "\n",
    "s6 = re.findall(r'\\w{1,};.+?;(.+?);(?:\\w{2};.+;[3-5]\\d{4})',employees) \n",
    "\n",
    "s6"
   ]
  },
  {
   "cell_type": "code",
   "execution_count": 26,
   "metadata": {},
   "outputs": [
    {
     "data": {
      "text/plain": [
       "[('Jack', 'Darren'),\n",
       " ('John', 'Wilson'),\n",
       " ('Anna', 'Sullivan'),\n",
       " ('Ronnie', 'Moore'),\n",
       " ('Wayne', 'Barker')]"
      ]
     },
     "execution_count": 26,
     "metadata": {},
     "output_type": "execute_result"
    }
   ],
   "source": [
    "# All the employees first and last name whose phone number ends with 2 consecutive odd numbers\n",
    "\n",
    "\n",
    "s7 = re.findall(r'\\d{1,};(\\w+?);(\\w+?);.+?;\\d{8}[13579]{2};.+;\\d{5}',employees)\n",
    "\n",
    "s7"
   ]
  },
  {
   "cell_type": "code",
   "execution_count": 29,
   "metadata": {},
   "outputs": [
    {
     "data": {
      "text/plain": [
       "['Jack', 'Andrew']"
      ]
     },
     "execution_count": 29,
     "metadata": {},
     "output_type": "execute_result"
    }
   ],
   "source": [
    "#All the employees first name whose last name starts with D and works in IT department \n",
    "\n",
    "s8 = re.findall(r'\\d{1,};(\\w+?);(?:D\\w+?);IT;.+;\\d{5}',employees)\n",
    "\n",
    "s8"
   ]
  },
  {
   "cell_type": "code",
   "execution_count": 36,
   "metadata": {},
   "outputs": [
    {
     "data": {
      "text/plain": [
       "['31800']"
      ]
     },
     "execution_count": 36,
     "metadata": {},
     "output_type": "execute_result"
    }
   ],
   "source": [
    "# Salaries of all the employees residing in chicago or LA works in Logistic department\n",
    "\n",
    "s9 = re.findall(r'\\d{1,};.+?;.+?;Logistics;\\d{1,};(?:.+? Chicago|.+? LA);(\\d{5})',employees)\n",
    "s9"
   ]
  },
  {
   "cell_type": "code",
   "execution_count": 37,
   "metadata": {},
   "outputs": [
    {
     "data": {
      "text/plain": [
       "[('Phillip', '5564567890'),\n",
       " ('Darren', '3444567891'),\n",
       " ('Wood', '5524567892'),\n",
       " ('Wilson', '1124567893'),\n",
       " ('Larson', '1234567894'),\n",
       " ('Sullivan', '3324567895'),\n",
       " ('Smith', '6894567896'),\n",
       " ('Moore', '8974567897'),\n",
       " ('Baker', '1154567900'),\n",
       " ('Williams', '1094567901'),\n",
       " ('Wood', '2044567902'),\n",
       " ('Phills', '1664567903'),\n",
       " ('Johnson', '1664567904'),\n",
       " ('Andrews', '3324567908'),\n",
       " ('Harrison', '1234567909')]"
      ]
     },
     "execution_count": 37,
     "metadata": {},
     "output_type": "execute_result"
    }
   ],
   "source": [
    "# Last name and phone number of employee who located outside Las vegas\n",
    "\n",
    "s10 = re.findall(r\"\\d{1,};.+?;(.+?);.+?;(.+?);.+, (?!Las Vegas)\", employees)\n",
    "\n",
    "s10"
   ]
  },
  {
   "cell_type": "code",
   "execution_count": null,
   "metadata": {},
   "outputs": [],
   "source": []
  }
 ],
 "metadata": {
  "kernelspec": {
   "display_name": "Python 3",
   "language": "python",
   "name": "python3"
  },
  "language_info": {
   "codemirror_mode": {
    "name": "ipython",
    "version": 3
   },
   "file_extension": ".py",
   "mimetype": "text/x-python",
   "name": "python",
   "nbconvert_exporter": "python",
   "pygments_lexer": "ipython3",
   "version": "3.7.6"
  }
 },
 "nbformat": 4,
 "nbformat_minor": 4
}
