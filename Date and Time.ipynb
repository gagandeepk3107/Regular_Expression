{
 "cells": [
  {
   "cell_type": "code",
   "execution_count": 28,
   "metadata": {},
   "outputs": [],
   "source": [
    "\n",
    "# Log Check\n",
    "\n",
    "import re"
   ]
  },
  {
   "cell_type": "code",
   "execution_count": 2,
   "metadata": {},
   "outputs": [],
   "source": [
    "f = open(r'logs.txt')"
   ]
  },
  {
   "cell_type": "code",
   "execution_count": 3,
   "metadata": {},
   "outputs": [],
   "source": [
    "string = f.read()"
   ]
  },
  {
   "cell_type": "code",
   "execution_count": 4,
   "metadata": {},
   "outputs": [
    {
     "name": "stdout",
     "output_type": "stream",
     "text": [
      "ï»¿Level Date and Time Source Event ID Task Category\n",
      "Critical 1/27/2020 8:19:22 AM Microsoft-Windows-Kernel-Power 41 (63) The system has rebooted without cleanly shutting down first. This error could be caused if the system stopped responding, crashed, or lost power unexpectedly.\n",
      "Critical 1/26/2020 10:09:54 AM Microsoft-Windows-Kernel-Power 41 (63) The system has rebooted without cleanly shutting down first. This error could be caused if the system stopped responding, crashed, or lost power unexpectedly.\n",
      "Critical 1/25/2020 10:12:58 AM Microsoft-Windows-Kernel-Power 41 (63) The system has rebooted without cleanly shutting down first. This error could be caused if the system stopped responding, crashed, or lost power unexpectedly.\n",
      "Error 1/25/2020 10:03:44 AM Microsoft-Windows-WER-SystemErrorReporting 1001 None The computer has rebooted from a bugcheck.  The bugcheck was: 0x0000009f (0x0000000000000003, 0xffff810ec8c31060, 0xfffff80716e687b0, 0xffff810ed30e3c20). A dump was saved in: C:\\WINDOWS\\MEMORY.DMP. Report Id: 7fcfb77c-e4b0-4e3b-b4c7-af9dafdafc7f.\n",
      "Error 1/25/2020 10:03:29 AM TPM 15 None The device driver for the Trusted Platform Module (TPM) encountered a non-recoverable error in the TPM hardware, which prevents TPM services (such as data encryption) from being used. For further help, please contact the computer manufacturer.\n",
      "Critical 1/25/2020 10:03:28 AM Microsoft-Windows-Kernel-Power 41 (63) The system has rebooted without cleanly shutting down first. This error could be caused if the system stopped responding, crashed, or lost power unexpectedly.\n",
      "Critical 1/24/2020 8:04:10 AM Microsoft-Windows-Kernel-Power 41 (63) The system has rebooted without cleanly shutting down first. This error could be caused if the system stopped responding, crashed, or lost power unexpectedly.\n",
      "Error 1/24/2020 8:04:08 AM Microsoft-Windows-Kernel-Boot 29 None Windows failed fast startup with error status 0xC0000001.\n",
      "Error 1/23/2020 11:53:41 PM Microsoft-Windows-DistributedCOM 10010 None The server {4AA0A5C4-1B9B-4F2E-99D7-99C6AEC83474} did not register with DCOM within the required timeout.\n",
      "Critical 1/23/2020 7:59:27 AM Microsoft-Windows-Kernel-Power 41 (63) The system has rebooted without cleanly shutting down first. This error could be caused if the system stopped responding, crashed, or lost power unexpectedly.\n",
      "Error 1/23/2020 7:59:33 AM EventLog 6008 None The previous system shutdown at 12:10:13 AM on â€Ž1/â€Ž23/â€Ž2020 was unexpected.\n",
      "Error 1/23/2020 7:59:25 AM Microsoft-Windows-Kernel-Boot 29 None Windows failed fast startup with error status 0xC0000001.\n",
      "Error 1/23/2020 12:19:14 AM Microsoft-Windows-DistributedCOM 10010 None The server {4AA0A5C4-1B9B-4F2E-99D7-99C6AEC83474} did not register with DCOM within the required timeout.\n",
      "Critical 1/22/2020 7:40:49 AM Microsoft-Windows-Kernel-Power 41 (63) The system has rebooted without cleanly shutting down first. This error could be caused if the system stopped responding, crashed, or lost power unexpectedly.\n",
      "Error 1/22/2020 7:40:46 AM Microsoft-Windows-Kernel-Boot 29 None Windows failed fast startup with error status 0xC0000001.\n",
      "Error 1/22/2020 7:40:55 AM EventLog 6008 None The previous system shutdown at 11:50:39 PM on â€Ž1/â€Ž21/â€Ž2020 was unexpected.\n",
      "Error 1/22/2020 12:03:05 AM Microsoft-Windows-DistributedCOM 10010 None The server {4AA0A5C4-1B9B-4F2E-99D7-99C6AEC83474} did not register with DCOM within the required timeout.\n",
      "Error 1/21/2020 8:31:51 AM Service Control Manager 7000 None \"The Steam Client Service service failed to start due to the following error: \n",
      "The service did not respond to the start or control request in a timely fashion.\"\n",
      "Error 1/21/2020 8:31:51 AM Service Control Manager 7009 None A timeout was reached (30000 milliseconds) while waiting for the Steam Client Service service to connect.\n",
      "Error 1/21/2020 8:31:39 AM Tcpip 4207 None The IPv6 TCP/IP interface with index 13 failed to bind to its provider.\n",
      "Error 1/21/2020 8:30:48 AM Microsoft-Windows-WER-SystemErrorReporting 1001 None The computer has rebooted from a bugcheck.  The bugcheck was: 0x0000009f (0x0000000000000003, 0xffffb8870de1f060, 0xffffb58e3fa3f7b0, 0xffffb88716aad010). A dump was saved in: C:\\WINDOWS\\MEMORY.DMP. Report Id: d5492e55-b096-4be9-8946-79606b0b7df2.\n",
      "Error 1/21/2020 8:30:34 AM TPM 15 None The device driver for the Trusted Platform Module (TPM) encountered a non-recoverable error in the TPM hardware, which prevents TPM services (such as data encryption) from being used. For further help, please contact the computer manufacturer.\n",
      "Critical 1/21/2020 8:30:30 AM Microsoft-Windows-Kernel-Power 41 (63) The system has rebooted without cleanly shutting down first. This error could be caused if the system stopped responding, crashed, or lost power unexpectedly.\n",
      "Error 1/21/2020 8:30:28 AM Microsoft-Windows-Kernel-Boot 29 None Windows failed fast startup with error status 0xC0000001.\n",
      "Error 1/21/2020 8:30:39 AM EventLog 6008 None The previous system shutdown at 11:55:06 PM on â€Ž1/â€Ž20/â€Ž2020 was unexpected.\n",
      "Error 1/20/2020 10:56:01 AM Tcpip 4207 None The IPv6 TCP/IP interface with index 13 failed to bind to its provider.\n",
      "Error 1/20/2020 10:56:01 AM Tcpip 4207 None The IPv4 TCP/IP interface with index 13 failed to bind to its provider.\n",
      "Error 1/20/2020 10:55:24 AM TPM 15 None The device driver for the Trusted Platform Module (TPM) encountered a non-recoverable error in the TPM hardware, which prevents TPM services (such as data encryption) from being used. For further help, please contact the computer manufacturer.\n",
      "Critical 1/20/2020 10:55:22 AM Microsoft-Windows-Kernel-Power 41 (63) The system has rebooted without cleanly shutting down first. This error could be caused if the system stopped responding, crashed, or lost power unexpectedly.\n",
      "Critical 1/20/2020 8:41:34 AM Microsoft-Windows-Kernel-Power 41 (63) The system has rebooted without cleanly shutting down first. This error could be caused if the system stopped responding, crashed, or lost power unexpectedly.\n",
      "Error 1/19/2020 4:23:56 PM Tcpip 4207 None The IPv6 TCP/IP interface with index 13 failed to bind to its provider.\n",
      "Error 1/19/2020 4:23:38 PM Microsoft-Windows-WER-SystemErrorReporting 1001 None The computer has rebooted from a bugcheck.  The bugcheck was: 0x0000009f (0x0000000000000003, 0xffff9588ada3f060, 0xfffff80082e687b0, 0xffff9588b8778c30). A dump was saved in: C:\\WINDOWS\\MEMORY.DMP. Report Id: cea4bd76-9e35-4798-9ea7-6c027be9f1ef.\n",
      "Error 1/19/2020 4:23:05 PM TPM 15 None The device driver for the Trusted Platform Module (TPM) encountered a non-recoverable error in the TPM hardware, which prevents TPM services (such as data encryption) from being used. For further help, please contact the computer manufacturer.\n",
      "Critical 1/19/2020 4:23:04 PM Microsoft-Windows-Kernel-Power 41 (63) The system has rebooted without cleanly shutting down first. This error could be caused if the system stopped responding, crashed, or lost power unexpectedly.\n",
      "Error 1/19/2020 4:23:01 PM Microsoft-Windows-Kernel-Boot 29 None Windows failed fast startup with error status 0xC0000001.\n",
      "Error 1/19/2020 4:23:10 PM EventLog 6008 None The previous system shutdown at 5:15:31 PM on â€Ž1/â€Ž17/â€Ž2020 was unexpected.\n",
      "Error 1/17/2020 7:56:41 AM Tcpip 4207 None The IPv6 TCP/IP interface with index 13 failed to bind to its provider.\n",
      "Error 1/17/2020 7:55:40 AM Microsoft-Windows-WER-SystemErrorReporting 1001 None The computer has rebooted from a bugcheck.  The bugcheck was: 0x0000009f (0x0000000000000003, 0xffffb40fae2b4060, 0xfffff80641e687b0, 0xffffb40fb601b260). A dump was saved in: C:\\WINDOWS\\MEMORY.DMP. Report Id: e879c596-b5c3-422f-a6ad-3718b06c410e.\n",
      "Error 1/17/2020 7:55:26 AM TPM 15 None The device driver for the Trusted Platform Module (TPM) encountered a non-recoverable error in the TPM hardware, which prevents TPM services (such as data encryption) from being used. For further help, please contact the computer manufacturer.\n",
      "Critical 1/17/2020 7:55:24 AM Microsoft-Windows-Kernel-Power 41 (63) The system has rebooted without cleanly shutting down first. This error could be caused if the system stopped responding, crashed, or lost power unexpectedly.\n",
      "Error 1/16/2020 9:34:28 AM Tcpip 4207 None The IPv6 TCP/IP interface with index 13 failed to bind to its provider.\n",
      "Error 1/16/2020 9:32:59 AM Microsoft-Windows-WER-SystemErrorReporting 1001 None The computer has rebooted from a bugcheck.  The bugcheck was: 0x0000009f (0x0000000000000003, 0xffffad0ab1852060, 0xffffac070e03f7b0, 0xffffad0ab47819a0). A dump was saved in: C:\\WINDOWS\\MEMORY.DMP. Report Id: 5203e737-299c-40bd-aeb2-13e3c9f010c0.\n",
      "Error 1/16/2020 9:32:45 AM TPM 15 None The device driver for the Trusted Platform Module (TPM) encountered a non-recoverable error in the TPM hardware, which prevents TPM services (such as data encryption) from being used. For further help, please contact the computer manufacturer.\n",
      "Critical 1/16/2020 9:32:44 AM Microsoft-Windows-Kernel-Power 41 (63) The system has rebooted without cleanly shutting down first. This error could be caused if the system stopped responding, crashed, or lost power unexpectedly.\n",
      "Error 1/15/2020 3:34:14 PM TPM 15 None The device driver for the Trusted Platform Module (TPM) encountered a non-recoverable error in the TPM hardware, which prevents TPM services (such as data encryption) from being used. For further help, please contact the computer manufacturer.\n",
      "Error 1/15/2020 7:17:10 AM VBoxNetLwf 12 None The driver detected an internal driver error on \\Device\\VBoxNetLwf.\n",
      "Critical 1/15/2020 7:17:10 AM Microsoft-Windows-Kernel-Power 41 (63) The system has rebooted without cleanly shutting down first. This error could be caused if the system stopped responding, crashed, or lost power unexpectedly.\n",
      "Critical 1/14/2020 6:49:47 AM Microsoft-Windows-Kernel-Power 41 (63) The system has rebooted without cleanly shutting down first. This error could be caused if the system stopped responding, crashed, or lost power unexpectedly.\n"
     ]
    }
   ],
   "source": [
    "print(string)"
   ]
  },
  {
   "cell_type": "code",
   "execution_count": 20,
   "metadata": {},
   "outputs": [],
   "source": [
    "# Structure\n",
    "\n",
    "# First we have severity level of message\n",
    "# after space Date and time log message generated\n",
    "# Following time we have source\n",
    "# Followed by event id\n",
    "# And Description of issue"
   ]
  },
  {
   "cell_type": "code",
   "execution_count": null,
   "metadata": {},
   "outputs": [],
   "source": []
  },
  {
   "cell_type": "code",
   "execution_count": 13,
   "metadata": {},
   "outputs": [
    {
     "data": {
      "text/plain": [
       "[('1/16/2020', 'Microsoft-Windows-Kernel-Power'),\n",
       " ('1/15/2020', 'Microsoft-Windows-Kernel-Power'),\n",
       " ('1/14/2020', 'Microsoft-Windows-Kernel-Power')]"
      ]
     },
     "execution_count": 13,
     "metadata": {},
     "output_type": "execute_result"
    }
   ],
   "source": [
    "# Critical isuues between Jan 11 to jan 20  of 2020\n",
    "\n",
    "re.findall(r'Critical (1/1[1-6]/2020) .+ [A-Z]{2} (.+?) \\d+',string)"
   ]
  },
  {
   "cell_type": "code",
   "execution_count": null,
   "metadata": {},
   "outputs": [],
   "source": []
  },
  {
   "cell_type": "code",
   "execution_count": 21,
   "metadata": {},
   "outputs": [
    {
     "data": {
      "text/plain": [
       "['TPM']"
      ]
     },
     "execution_count": 21,
     "metadata": {},
     "output_type": "execute_result"
    }
   ],
   "source": [
    "# All the issues in 2020 between 12:00 pm to 4 :00 pm\n",
    "\n",
    "re.findall(r\".+/2020 (?:12|[1-3]):\\d\\d:\\d\\d PM (.+?) \\d+\", string)"
   ]
  },
  {
   "cell_type": "code",
   "execution_count": null,
   "metadata": {},
   "outputs": [],
   "source": []
  },
  {
   "cell_type": "code",
   "execution_count": 24,
   "metadata": {},
   "outputs": [
    {
     "data": {
      "text/plain": [
       "['1/25/2020',\n",
       " '1/21/2020',\n",
       " '1/20/2020',\n",
       " '1/19/2020',\n",
       " '1/17/2020',\n",
       " '1/16/2020',\n",
       " '1/15/2020']"
      ]
     },
     "execution_count": 24,
     "metadata": {},
     "output_type": "execute_result"
    }
   ],
   "source": [
    "# Date for All the log entries that have TPM as source of log message\n",
    "\n",
    "re.findall(r\".+ (.+?) \\d+:\\d+:\\d+ [A-Z]{2} TPM \\d+\", string)"
   ]
  },
  {
   "cell_type": "code",
   "execution_count": 27,
   "metadata": {},
   "outputs": [
    {
     "data": {
      "text/plain": [
       "[('1/27/2020', '8:19:22'), ('1/24/2020', '8:04:10'), ('1/24/2020', '8:04:08')]"
      ]
     },
     "execution_count": 27,
     "metadata": {},
     "output_type": "execute_result"
    }
   ],
   "source": [
    "re.findall(r'.+? (1/2[4-7]/2020) (8:\\d\\d:\\d\\d)',string)"
   ]
  },
  {
   "cell_type": "code",
   "execution_count": 29,
   "metadata": {},
   "outputs": [],
   "source": [
    "# Websites"
   ]
  },
  {
   "cell_type": "code",
   "execution_count": 33,
   "metadata": {},
   "outputs": [],
   "source": [
    "f = open(r'web.txt')"
   ]
  },
  {
   "cell_type": "code",
   "execution_count": 35,
   "metadata": {},
   "outputs": [],
   "source": [
    "string = f.read()"
   ]
  },
  {
   "cell_type": "code",
   "execution_count": 36,
   "metadata": {},
   "outputs": [
    {
     "name": "stdout",
     "output_type": "stream",
     "text": [
      "Site\tDomain\tAlexa top 50 global sites\tSimilarWeb top 50 sites\tType\tPrincipal country/territory\n",
      "Google\thttps://google.com\t1 (Steady)\t1 (Steady)\tInternet services and products\tUnited States U.S.\n",
      "YouTube\thttps://youtube.com\t2 (Steady)\t2 (Increase1)\tVideo sharing\tUnited States U.S.\n",
      "Tmall\thttps://tmall.com\t3 (Steady)\t82 (Steady)\tOnline shopping\tChina China\n",
      "Facebook\thttps://facebook.com\t4 (Increase3)\t3 (Decrease1)\tSocial networking\tUnited States U.S.\n",
      "Baidu\thttps://baidu.com\t5 (Decrease1)\t4 (Increase11)\tInternet-related services and products\tChina China\n",
      "Tencent QQ\thttps://qq.com\t6 (Decrease1)\t20 (Increase18)\tPortal\tChina China\n",
      "Sohu\thttps://sohu.com\t7 (Decrease1)\t79 (Increase125)\tPortal\tChina China\n",
      "Tmall\thttps://login.tmall.com\t8 (Increase1)\tN/A[note 1]\tOnline shopping\tChina China\n",
      "Taobao\thttps://taobao.com\t9 (Decrease1)\t42 (Increase9)\tOnline shopping\tChina China\n",
      "Haosou\thttps://360.cn\t10 (Increase2)\t219 (Decrease134)\tInternet security and web search engine\tChina China\n",
      "Yahoo!\thttps://yahoo.com\t11 (Steady)\t9 (Decrease5)\tPortal and media\tUnited States U.S.\n",
      "Jingdong Mall\thttps://jd.com\t12 (Increase2)\t99\tE-commerce\tChina China\n",
      "Wikipedia\thttps://wikipedia.org\t13 (Decrease3)\t10 (Decrease5)\tEncyclopedia\tUnited States U.S.\n",
      "Amazon\thttps://mazon.com\t14 (Decrease1)\t13 (Increase8)\tE-commerce and cloud computing\tUnited States U.S.\n",
      "Sina Corp\thttps://sina.com.cn\t15 (Increase1)\t157 (Decrease47)\tPortal and instant messaging\tChina China\n",
      "Sina Weibo\thttps://weibo.com\t16 (Decrease1)\t128 (Decrease32)\tSocial networking\tChina China\n",
      "Tmall\thttps://pages.tmall.com\t17 (Increase1)\tN/A[note 1]\tOnline shopping\tChina China\n",
      "Windows Live\thttps://live.com\t18 (Decrease1)\t15 (Decrease8)\tSoftware plus services\tUnited States U.S.\n",
      "Reddit\thttps://reddit.com\t19 (Steady)\t17 (Increase14)\tSocial news and entertainment\tUnited States U.S.\n",
      "Netflix\thttps://netflix.com\t20 (Increase1)\t19 (Increase5)\tStreaming TV and movies\tUnited States U.S.\n",
      "Zoom Video Communications\thttps://zoom.us\t21 (N/A)\t[data unknown/missing]\tVideotelephony\tUnited States U.S.\n",
      "Xinhua News Agency\thttps://xinhuanet.com\t22 (Increase9)\t4,150\tNews\tChina China\n",
      "Okezone\thttps://Okezone.com\t23 (Increase4)\t3,102\tPortal\tIndonesia Indonesia\n",
      "Blogspot\thttps://blogspot.com\t24 (Increase2)\t236,937\tBlogging\tUnited States U.S.\n",
      "Microsoft Office\thttps://office.com\t25 (Increase5)\t35 (Increase5)\tOnline office suite\tUnited States U.S.\n",
      "Microsoft\thttps://microsoft.com\t26 (Increase8)\t44 (Increase4)\tSoftware and technology\tUnited States U.S.\n",
      "VK\thttps://vk.com\t27 (Decrease7)\t12 (Increase2)\tSocial networking\tRussia Russia\n",
      "CSDN\thttps://csdn.net\t28 (Decrease4)\t209\tTechnology news and Internet forum\tChina China\n",
      "Instagram\thttps://instagram.com\t29 (Decrease1)\t5 (Increase13)\tPhoto sharing and social media\tUnited States U.S.\n",
      "Alipay\thttps://alipay.com\t30 (Decrease7)\t262\tPayment system\tChina China\n",
      "Yahoo! Japan https://yahoo.co.jp\t31 (Decrease5)\t23 (Increase4)\tPortal\tJapan Japan\n",
      "Twitch\thttps://Twitch.tv\t32 (Increase5)\t38 (Increase34)\tStreaming primarily on video games\tUnited States U.S.\n",
      "Bing\thttps://bing.com\t33 (Decrease8)\t25 (Increase21)\tWeb search engine\tUnited States U.S.\n",
      "\n",
      "(Based on data provided by Wikipedia at en.wikipedia.org/wiki/List_of_most_popular_websites)\n"
     ]
    }
   ],
   "source": [
    "print(string)"
   ]
  },
  {
   "cell_type": "code",
   "execution_count": 37,
   "metadata": {},
   "outputs": [],
   "source": [
    "# Structure\n",
    "# Text file containing information regarding about the most popular websites in internet\n",
    "\n",
    "# Name of the website\n",
    "# URL\n",
    "# Type of the services\n",
    "# Originated country\n"
   ]
  },
  {
   "cell_type": "code",
   "execution_count": 49,
   "metadata": {},
   "outputs": [
    {
     "data": {
      "text/plain": [
       "['https://tmall.com',\n",
       " 'https://login.tmall.com',\n",
       " 'https://taobao.com',\n",
       " 'https://pages.tmall.com']"
      ]
     },
     "execution_count": 49,
     "metadata": {},
     "output_type": "execute_result"
    }
   ],
   "source": [
    "re.findall(r'.+\\s+(http.*://.+\\.\\w{2,})\\s.+Online shopping.+',string)"
   ]
  },
  {
   "cell_type": "code",
   "execution_count": 51,
   "metadata": {},
   "outputs": [
    {
     "data": {
      "text/plain": [
       "['Tmall',\n",
       " 'Baidu',\n",
       " 'Tencent QQ',\n",
       " 'Sohu',\n",
       " 'Tmall',\n",
       " 'Taobao',\n",
       " 'Jingdong Mall',\n",
       " 'Sina Weibo',\n",
       " 'Tmall',\n",
       " 'Xinhua News Agency',\n",
       " 'CSDN',\n",
       " 'Alipay']"
      ]
     },
     "execution_count": 51,
     "metadata": {},
     "output_type": "execute_result"
    }
   ],
   "source": [
    "# All the websites based on china and have url extension of 3(com,org etc)\n",
    "re.findall(r\"(.+)\\s+http.*://.+\\.\\w{3}\\s.+China.+\", string)"
   ]
  },
  {
   "cell_type": "code",
   "execution_count": 52,
   "metadata": {},
   "outputs": [
    {
     "data": {
      "text/plain": [
       "['Google',\n",
       " 'YouTube',\n",
       " 'Facebook',\n",
       " 'Yahoo!',\n",
       " 'Wikipedia',\n",
       " 'Amazon',\n",
       " 'Windows Live',\n",
       " 'Reddit',\n",
       " 'Netflix',\n",
       " 'Blogspot',\n",
       " 'Microsoft Office',\n",
       " 'Microsoft',\n",
       " 'Instagram',\n",
       " 'Bing']"
      ]
     },
     "execution_count": 52,
     "metadata": {},
     "output_type": "execute_result"
    }
   ],
   "source": [
    "# All the websites based on United States and have url extension of 3(com,org etc)\n",
    "re.findall(r\"(.+)\\s+http.*://.+\\.\\w{3}\\s.+United States.+\", string)"
   ]
  },
  {
   "cell_type": "code",
   "execution_count": 58,
   "metadata": {},
   "outputs": [
    {
     "data": {
      "text/plain": [
       "[('https://facebook.com', 'United'),\n",
       " ('https://weibo.com', 'China'),\n",
       " ('https://vk.com', 'Russia')]"
      ]
     },
     "execution_count": 58,
     "metadata": {},
     "output_type": "execute_result"
    }
   ],
   "source": [
    "# URL of social networking websites\n",
    "re.findall(r\".+\\s+(http.*://.{1,}\\.\\w{2,})\\s.+Social networking\\s(.+?)\\s.+\", string)"
   ]
  },
  {
   "cell_type": "code",
   "execution_count": 62,
   "metadata": {},
   "outputs": [
    {
     "data": {
      "text/plain": [
       "['Tmall', 'Sina Corp', 'Tmall', 'Yahoo! Japan']"
      ]
     },
     "execution_count": 62,
     "metadata": {},
     "output_type": "execute_result"
    }
   ],
   "source": [
    "# Websites which has subdomain like (https://something.websites.abc)\n",
    "\n",
    "re.findall(r\"(.+)\\s+(?:http.*)://.+\\..+\\.\\w{2,}\\s.+\", string)"
   ]
  },
  {
   "cell_type": "code",
   "execution_count": 64,
   "metadata": {},
   "outputs": [],
   "source": [
    "# Stocks\n",
    "f= open(r'stocks.txt')\n",
    "string = f.read()"
   ]
  },
  {
   "cell_type": "code",
   "execution_count": 66,
   "metadata": {},
   "outputs": [
    {
     "name": "stdout",
     "output_type": "stream",
     "text": [
      "Name\t        AverageVolume\tRevenue\t    P/E Ratio\n",
      "3M              5.03M\t        32.14B\t    18.74\t\n",
      "Alphabet C\t    2.41M\t        161.86B\t    26.01\n",
      "Amazon.com\t    6.01M\t        280.52B\t    103.18\n",
      "Apple\t        51.02M\t        267.68B\t    22.34\n",
      "Boeing\t        23.63M\t        84.82B\t\t20.31\n",
      "Caterpillar\t    5.46M\t        53.80B\t    11.18\n",
      "Chevron\t        14.33M\t        140.16B\t    58.8\n",
      "Cisco\t        32.32M\t        51.55B\t    15.42\n",
      "Coca-Cola\t    20.82M\t        37.27B\t    23.24\n",
      "Exxon Mobil\t    37.47M\t        255.58B\t    13.57\n",
      "Facebook\t    23.04M\t        70.70B\t    29.45\n",
      "Goldman Sachs\t4.51M\t        53.69B\t    9.97\n",
      "Home Depot\t    6.82M\t        110.23B\t    20.43\n",
      "IBM\t            7.17M\t        77.15B\t    11.19\n",
      "Intel\t        33.07M\t        71.97B\t    12.77\n",
      "J&J\t            11.54M\t        82.73B\t    23.72\n",
      "JPMorgan\t    22.96M\t        67.07B\t    10.75\n",
      "McDonalds\t    5.62M\t        21.08B\t    23.43\n",
      "Merck&Co\t    14.11M\t        46.84B\t    21.64\n",
      "Microsoft\t    54.66M\t        134.25B\t    33.04\n",
      "Nike\t        10.38M\t        41.27B\t    33.27\n",
      "Pfizer\t        34.01M\t        51.75B\t    13.15\n",
      "Procter&Gamble\t11.36M\t        69.59B\t\t11.19\n",
      "Raytheon Tech.\t10.18M\t        77.05B\t    10.31\n",
      "Tesla\t        20.82M\t        24.58B\t\t14.41\n",
      "UnitedHealth\t6.24M\t        246.27B\t    20.34\n",
      "Verizon\t        21.91M\t        131.87B\t    12.56\n",
      "Visa A\t        13.98M\t        23.53B\t    32.21\n",
      "Walmart\t        10.10M\t        523.96B\t    25.46\n",
      "Walt Disney\t    20.03M\t        75.13B\t    17.98\n",
      "\n",
      "\n",
      "Source: https://www.investing.com/equities/\n",
      "(slightly modified for educational purposes)\n"
     ]
    }
   ],
   "source": [
    "print(string)"
   ]
  },
  {
   "cell_type": "code",
   "execution_count": 67,
   "metadata": {},
   "outputs": [],
   "source": [
    "# Structure\n",
    "# Company name\n",
    "# Average volume bieng traded\n",
    "# Revenue of each company\n",
    "# Price to earning ratio\n"
   ]
  },
  {
   "cell_type": "code",
   "execution_count": 69,
   "metadata": {},
   "outputs": [
    {
     "data": {
      "text/plain": [
       "['3M', 'Coca-Cola', 'McDonalds', 'Merck&Co', 'Nike', 'Tesla', 'Visa A']"
      ]
     },
     "execution_count": 69,
     "metadata": {},
     "output_type": "execute_result"
    }
   ],
   "source": [
    "# Company which has revenue less than 50B\n",
    "\n",
    "re.findall(r\"(.+?)\\s+[0-9]+\\.[0-9]+M\\s+[1-4][0-9]\\.[0-9]+B\\s+[0-9]+\\.[0-9]+\", string)"
   ]
  },
  {
   "cell_type": "code",
   "execution_count": 71,
   "metadata": {},
   "outputs": [
    {
     "data": {
      "text/plain": [
       "['Tesla']"
      ]
     },
     "execution_count": 71,
     "metadata": {},
     "output_type": "execute_result"
    }
   ],
   "source": [
    "# Revenue between 10B to 30B and PE ratio between 10 and 15 \n",
    "re.findall(r\"(.+?)\\s+[0-9]+\\.[0-9]+M\\s+[1-2][0-9]\\.[0-9]+B\\s+1[0-4]\\.[0-9]+\", string)"
   ]
  },
  {
   "cell_type": "code",
   "execution_count": 73,
   "metadata": {},
   "outputs": [
    {
     "data": {
      "text/plain": [
       "['3M',\n",
       " 'Alphabet C',\n",
       " 'Amazon.com',\n",
       " 'Caterpillar',\n",
       " 'Goldman Sachs',\n",
       " 'Home Depot',\n",
       " 'IBM',\n",
       " 'McDonalds',\n",
       " 'UnitedHealth']"
      ]
     },
     "execution_count": 73,
     "metadata": {},
     "output_type": "execute_result"
    }
   ],
   "source": [
    "# COmpany name whose volume less than 10M\n",
    "re.findall(r\"(.+?)\\s+[0-9]\\.[0-9]+M\\s+[0-9]+\\.[0-9]+B\\s+[0-9]+\\.[0-9]+\", string)"
   ]
  },
  {
   "cell_type": "code",
   "execution_count": 74,
   "metadata": {},
   "outputs": [
    {
     "data": {
      "text/plain": [
       "['Alphabet C',\n",
       " 'Boeing',\n",
       " 'Facebook',\n",
       " 'Goldman Sachs',\n",
       " 'Home Depot',\n",
       " 'JPMorgan',\n",
       " 'Tesla']"
      ]
     },
     "execution_count": 74,
     "metadata": {},
     "output_type": "execute_result"
    }
   ],
   "source": [
    "# Average volume starts with even digit and P/E ratio starts with odd digit\n",
    "re.findall(r\"(.+?)\\s+[2468][0-9]*\\.[0-9]+M\\s+[0-9]+\\.[0-9]+B\\s+[0-9]+\\.[0-9][13579]\", string)\n",
    "\n"
   ]
  },
  {
   "cell_type": "code",
   "execution_count": null,
   "metadata": {},
   "outputs": [],
   "source": []
  }
 ],
 "metadata": {
  "kernelspec": {
   "display_name": "Python 3",
   "language": "python",
   "name": "python3"
  },
  "language_info": {
   "codemirror_mode": {
    "name": "ipython",
    "version": 3
   },
   "file_extension": ".py",
   "mimetype": "text/x-python",
   "name": "python",
   "nbconvert_exporter": "python",
   "pygments_lexer": "ipython3",
   "version": "3.7.6"
  }
 },
 "nbformat": 4,
 "nbformat_minor": 4
}
