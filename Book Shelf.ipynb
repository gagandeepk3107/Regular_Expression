{
 "cells": [
  {
   "cell_type": "code",
   "execution_count": 1,
   "metadata": {},
   "outputs": [],
   "source": [
    "import re"
   ]
  },
  {
   "cell_type": "code",
   "execution_count": 7,
   "metadata": {},
   "outputs": [],
   "source": [
    "f = open(r'bookshelf.txt')"
   ]
  },
  {
   "cell_type": "code",
   "execution_count": 8,
   "metadata": {},
   "outputs": [],
   "source": [
    "book = f.read()"
   ]
  },
  {
   "cell_type": "code",
   "execution_count": 10,
   "metadata": {},
   "outputs": [
    {
     "name": "stdout",
     "output_type": "stream",
     "text": [
      "Terry-Thomas;Filling the Gap;1959\n",
      "Harpo Marx;Harpo Speaks;1961\n",
      "Charlie Chaplin;My Autobiography;1964\n",
      "Moe Howard;Moe Howard and the Three Stooges, AKA I Came, I Stooged, I Conquered (released posthumously);1974\n",
      "Sid Caesar;Where Have I Been?;1982\n",
      "Bill Cosby;Fatherhood;1986\n",
      "Mel Blanc;That's NOT All, Folks;1988\n",
      "Gilda Radner;It's Always Something;1989\n",
      "Richard Pryor;Pryor Convictions;1995\n",
      "Damon Wayans;Bootleg;1996\n",
      "Stephen Fry;Moab Is My Washpot;1997\n",
      "Jenny McCarthy;Jen-X: My Open Book;1997\n",
      "Chris Rock;Rock This;1997\n",
      "Sandra Bernhard;Confessions of a Pretty Lady;1998\n",
      "Danny Bonaduce;Random Acts of Badness;2001\n",
      "Fran Drescher;Cancer Schmancer;2002\n",
      "Alan Thicke;How Men Have Babies: a New Father's Survival Guide;2003\n",
      "Rodney Dangerfield;It's Not Easy Being Me: a Lifetime of No Respect But Plenty of Sex and Drugs;2004\n",
      "Tom Green;Hollywood Causes Cancer;2004\n",
      "Rik Mayall;Bigger Than Hitler & Better Than Christ;2005\n",
      "Tommy Chong;The I Chong: Meditations From the Joint;2006\n",
      "Alan Thicke;How to Raise Kids Who Won't Hate You;2006\n",
      "Steve Martin;Born Standing Up;2007\n",
      "Denis Leary;Why We Suck;2008\n",
      "Stephen Fry;Ernie: The Autobiography;2009\n",
      "Frankie Boyle;My Shit Life So Far;2009\n",
      "Craig Ferguson;American on Purpose;2009\n",
      "Todd Bridges;Killing Willis;2010\n",
      "Kevin Smith;Tough Sh*t: Life Advice from a Fat, Lazy Slob Who Still Made Good;2012\n",
      "Jimmie Walker;Dyn-o-mite!;2012\n",
      "Andrew Dice Clay;The Filthy Truth;2014\n",
      "John Cleese;So, Anyway...;2014\n",
      "Cheech Marin;Cheech Is Not My Real Name...But Don't Call Me Chong!;2017\n",
      "Eric Idle;Always Look On the Bright Side Of Life;2018\n"
     ]
    }
   ],
   "source": [
    "print(book)"
   ]
  },
  {
   "cell_type": "code",
   "execution_count": 11,
   "metadata": {},
   "outputs": [],
   "source": [
    "# Here book arrangement done by \n",
    "# Author; Book title ; Year of release"
   ]
  },
  {
   "cell_type": "code",
   "execution_count": 53,
   "metadata": {},
   "outputs": [
    {
     "data": {
      "text/plain": [
       "['Terry-Thomas',\n",
       " 'Filling the Gap',\n",
       " 'Harpo Marx',\n",
       " 'Harpo Speaks',\n",
       " 'Charlie Chaplin',\n",
       " 'My Autobiography',\n",
       " 'Moe Howard',\n",
       " 'Moe Howard and the Three Stooges, AKA I Came, I Stooged, I Conquered (released posthumously)',\n",
       " 'Sid Caesar',\n",
       " 'Where Have I Been?',\n",
       " 'Bill Cosby',\n",
       " 'Fatherhood',\n",
       " 'Mel Blanc',\n",
       " \"That's NOT All, Folks\",\n",
       " 'Gilda Radner',\n",
       " \"It's Always Something\",\n",
       " 'Richard Pryor',\n",
       " 'Pryor Convictions',\n",
       " 'Damon Wayans',\n",
       " 'Bootleg',\n",
       " 'Stephen Fry',\n",
       " 'Moab Is My Washpot',\n",
       " 'Jenny McCarthy',\n",
       " 'Jen-X: My Open Book',\n",
       " 'Chris Rock',\n",
       " 'Rock This',\n",
       " 'Sandra Bernhard',\n",
       " 'Confessions of a Pretty Lady',\n",
       " 'Danny Bonaduce',\n",
       " 'Random Acts of Badness',\n",
       " 'Fran Drescher',\n",
       " 'Cancer Schmancer',\n",
       " 'Alan Thicke',\n",
       " \"How Men Have Babies: a New Father's Survival Guide\",\n",
       " 'Rodney Dangerfield',\n",
       " \"It's Not Easy Being Me: a Lifetime of No Respect But Plenty of Sex and Drugs\",\n",
       " 'Tom Green',\n",
       " 'Hollywood Causes Cancer',\n",
       " 'Rik Mayall',\n",
       " 'Bigger Than Hitler & Better Than Christ',\n",
       " 'Tommy Chong',\n",
       " 'The I Chong: Meditations From the Joint',\n",
       " 'Alan Thicke',\n",
       " \"How to Raise Kids Who Won't Hate You\",\n",
       " 'Steve Martin',\n",
       " 'Born Standing Up',\n",
       " 'Denis Leary',\n",
       " 'Why We Suck',\n",
       " 'Stephen Fry',\n",
       " 'Ernie: The Autobiography',\n",
       " 'Frankie Boyle',\n",
       " 'My Shit Life So Far',\n",
       " 'Craig Ferguson',\n",
       " 'American on Purpose',\n",
       " 'Todd Bridges',\n",
       " 'Killing Willis',\n",
       " 'Kevin Smith',\n",
       " 'Tough Sh*t: Life Advice from a Fat, Lazy Slob Who Still Made Good',\n",
       " 'Jimmie Walker',\n",
       " 'Dyn-o-mite!',\n",
       " 'Andrew Dice Clay',\n",
       " 'The Filthy Truth',\n",
       " 'John Cleese',\n",
       " 'So, Anyway...',\n",
       " 'Cheech Marin',\n",
       " \"Cheech Is Not My Real Name...But Don't Call Me Chong!\",\n",
       " 'Eric Idle',\n",
       " 'Always Look On the Bright Side Of Life']"
      ]
     },
     "execution_count": 53,
     "metadata": {},
     "output_type": "execute_result"
    }
   ],
   "source": [
    "# Picking the author name\n",
    "re.findall(r\"\"\"(.+?);#Picking author name by grouping together (?:.+?); #Making non capturing group\"\"\",book,re.X)"
   ]
  },
  {
   "cell_type": "code",
   "execution_count": 42,
   "metadata": {},
   "outputs": [
    {
     "data": {
      "text/plain": [
       "['Filling the Gap',\n",
       " 'Harpo Speaks',\n",
       " 'My Autobiography',\n",
       " 'Moe Howard and the Three Stooges, AKA I Came, I Stooged, I Conquered (released posthumously)',\n",
       " 'Where Have I Been?',\n",
       " 'Fatherhood',\n",
       " \"That's NOT All, Folks\",\n",
       " \"It's Always Something\",\n",
       " 'Pryor Convictions',\n",
       " 'Bootleg',\n",
       " 'Moab Is My Washpot',\n",
       " 'Jen-X: My Open Book',\n",
       " 'Rock This',\n",
       " 'Confessions of a Pretty Lady',\n",
       " 'Random Acts of Badness',\n",
       " 'Cancer Schmancer',\n",
       " \"How Men Have Babies: a New Father's Survival Guide\",\n",
       " \"It's Not Easy Being Me: a Lifetime of No Respect But Plenty of Sex and Drugs\",\n",
       " 'Hollywood Causes Cancer',\n",
       " 'Bigger Than Hitler & Better Than Christ',\n",
       " 'The I Chong: Meditations From the Joint',\n",
       " \"How to Raise Kids Who Won't Hate You\",\n",
       " 'Born Standing Up',\n",
       " 'Why We Suck',\n",
       " 'Ernie: The Autobiography',\n",
       " 'My Shit Life So Far',\n",
       " 'American on Purpose',\n",
       " 'Killing Willis',\n",
       " 'Tough Sh*t: Life Advice from a Fat, Lazy Slob Who Still Made Good',\n",
       " 'Dyn-o-mite!',\n",
       " 'The Filthy Truth',\n",
       " 'So, Anyway...',\n",
       " \"Cheech Is Not My Real Name...But Don't Call Me Chong!\",\n",
       " 'Always Look On the Bright Side Of Life']"
      ]
     },
     "execution_count": 42,
     "metadata": {},
     "output_type": "execute_result"
    }
   ],
   "source": [
    "#Book tittle\n",
    "\n",
    "re.findall(r'.+?;(.{1,});.+?',book)"
   ]
  },
  {
   "cell_type": "code",
   "execution_count": 43,
   "metadata": {},
   "outputs": [
    {
     "data": {
      "text/plain": [
       "['1959',\n",
       " '1961',\n",
       " '1964',\n",
       " '1974',\n",
       " '1982',\n",
       " '1986',\n",
       " '1988',\n",
       " '1989',\n",
       " '1995',\n",
       " '1996',\n",
       " '1997',\n",
       " '1997',\n",
       " '1997',\n",
       " '1998',\n",
       " '2001',\n",
       " '2002',\n",
       " '2003',\n",
       " '2004',\n",
       " '2004',\n",
       " '2005',\n",
       " '2006',\n",
       " '2006',\n",
       " '2007',\n",
       " '2008',\n",
       " '2009',\n",
       " '2009',\n",
       " '2009',\n",
       " '2010',\n",
       " '2012',\n",
       " '2012',\n",
       " '2014',\n",
       " '2014',\n",
       " '2017',\n",
       " '2018']"
      ]
     },
     "execution_count": 43,
     "metadata": {},
     "output_type": "execute_result"
    }
   ],
   "source": [
    "# Year of release\n",
    "\n",
    "re.findall('\\d{4}',book)"
   ]
  },
  {
   "cell_type": "code",
   "execution_count": 56,
   "metadata": {},
   "outputs": [
    {
     "data": {
      "text/plain": [
       "['Danny Bonaduce',\n",
       " 'Fran Drescher',\n",
       " 'Alan Thicke',\n",
       " 'Rodney Dangerfield',\n",
       " 'Tom Green',\n",
       " 'Rik Mayall',\n",
       " 'Tommy Chong',\n",
       " 'Alan Thicke',\n",
       " 'Steve Martin',\n",
       " 'Denis Leary',\n",
       " 'Stephen Fry',\n",
       " 'Frankie Boyle',\n",
       " 'Craig Ferguson',\n",
       " 'Todd Bridges',\n",
       " 'Kevin Smith',\n",
       " 'Jimmie Walker',\n",
       " 'Andrew Dice Clay',\n",
       " 'John Cleese',\n",
       " 'Cheech Marin',\n",
       " 'Eric Idle']"
      ]
     },
     "execution_count": 56,
     "metadata": {},
     "output_type": "execute_result"
    }
   ],
   "source": [
    "# All the books published after 2000\n",
    "re.findall(r\"(.+?);.+?;20[0-9][0-9]\", book)"
   ]
  },
  {
   "cell_type": "code",
   "execution_count": 62,
   "metadata": {},
   "outputs": [
    {
     "data": {
      "text/plain": [
       "['Filling the Gap', 'Born Standing Up']"
      ]
     },
     "execution_count": 62,
     "metadata": {},
     "output_type": "execute_result"
    }
   ],
   "source": [
    "# The Book title end with p\n",
    "re.findall(r'(?:.+?);(.+?p);',book)"
   ]
  },
  {
   "cell_type": "code",
   "execution_count": 63,
   "metadata": {},
   "outputs": [],
   "source": [
    "# ALl the author last name starts with B"
   ]
  },
  {
   "cell_type": "code",
   "execution_count": null,
   "metadata": {},
   "outputs": [],
   "source": []
  },
  {
   "cell_type": "code",
   "execution_count": 71,
   "metadata": {},
   "outputs": [
    {
     "data": {
      "text/plain": [
       "['Blanc', 'Bernhard', 'Bonaduce', 'Boyle', 'Bridges']"
      ]
     },
     "execution_count": 71,
     "metadata": {},
     "output_type": "execute_result"
    }
   ],
   "source": [
    "re.findall(r\".+? (B.+?);.+;.+\", book)\n",
    "\n"
   ]
  },
  {
   "cell_type": "code",
   "execution_count": 72,
   "metadata": {},
   "outputs": [],
   "source": [
    "# All the books published in 1980 - 1999"
   ]
  },
  {
   "cell_type": "code",
   "execution_count": 79,
   "metadata": {},
   "outputs": [
    {
     "data": {
      "text/plain": [
       "[('Where Have I Been?', '1982'),\n",
       " ('Fatherhood', '1986'),\n",
       " (\"That's NOT All, Folks\", '1988'),\n",
       " (\"It's Always Something\", '1989'),\n",
       " ('Pryor Convictions', '1995'),\n",
       " ('Bootleg', '1996'),\n",
       " ('Moab Is My Washpot', '1997'),\n",
       " ('Jen-X: My Open Book', '1997'),\n",
       " ('Rock This', '1997'),\n",
       " ('Confessions of a Pretty Lady', '1998')]"
      ]
     },
     "execution_count": 79,
     "metadata": {},
     "output_type": "execute_result"
    }
   ],
   "source": [
    "re.findall(r'(?:.+?);(.+?);(19[8-9][0-9])',book)"
   ]
  },
  {
   "cell_type": "code",
   "execution_count": null,
   "metadata": {},
   "outputs": [],
   "source": []
  }
 ],
 "metadata": {
  "kernelspec": {
   "display_name": "Python 3",
   "language": "python",
   "name": "python3"
  },
  "language_info": {
   "codemirror_mode": {
    "name": "ipython",
    "version": 3
   },
   "file_extension": ".py",
   "mimetype": "text/x-python",
   "name": "python",
   "nbconvert_exporter": "python",
   "pygments_lexer": "ipython3",
   "version": "3.7.6"
  }
 },
 "nbformat": 4,
 "nbformat_minor": 4
}
