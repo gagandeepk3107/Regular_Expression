{
 "cells": [
  {
   "cell_type": "code",
   "execution_count": 1,
   "metadata": {},
   "outputs": [],
   "source": [
    "import re"
   ]
  },
  {
   "cell_type": "code",
   "execution_count": 7,
   "metadata": {},
   "outputs": [
    {
     "data": {
      "text/plain": [
       "<_io.TextIOWrapper name='phone.txt' mode='r' encoding='cp1252'>"
      ]
     },
     "execution_count": 7,
     "metadata": {},
     "output_type": "execute_result"
    }
   ],
   "source": [
    "f = open(r'phone.txt')"
   ]
  },
  {
   "cell_type": "code",
   "execution_count": 8,
   "metadata": {},
   "outputs": [],
   "source": [
    "string = f.read()"
   ]
  },
  {
   "cell_type": "code",
   "execution_count": 10,
   "metadata": {},
   "outputs": [
    {
     "name": "stdout",
     "output_type": "stream",
     "text": [
      "Zion Martinez\t(631) 472-4834\n",
      "Moriah Velez\t(201) 684-8134\n",
      "Jenna Peterson\t(355) 554-9561\n",
      "Ayaan Novak\t(812) 883-7304\n",
      "Elena Sosa\t(504) 478-1208\n",
      "Taniyah Lucas\t(949) 304-4647\n",
      "Maritza Ramos\t(295) 931-1193\n",
      "Maryjane Velazquez\t(409) 441-2612\n",
      "Oliver Cooper\t(917) 965-9749\n",
      "Max Bridges\t(665) 245-0683\n",
      "Craig Sutton\t(783) 281-6115\n",
      "Emilie Good\t(608) 628-4088\n",
      "Alexis Rowe\t(357) 540-2991\n",
      "Maxwell Rose\t(366) 809-5605\n",
      "Davin Carroll\t(508) 291-1622\n",
      "Riya Foster\t(461) 532-0795\n",
      "Kymani Pena\t(366) 683-3252\n",
      "Josie Lloyd\t(676) 509-5720\n",
      "Amy Fowler\t(630) 821-5787\n",
      "Zion Strickland\t(443) 372-0040\n",
      "Jermaine Roy\t(576) 876-2490\n",
      "Sasha Duncan\t(379) 596-5662\n",
      "Guillermo Pacheco\t(922) 634-5795\n",
      "Mohammad Tapia\t(969) 831-7093\n",
      "Samir Mcdonald\t(546) 420-0881\n",
      "Sidney Mcdaniel\t(783) 705-9254\n",
      "Cameron Terry\t(540) 878-9323\n",
      "Kyla Waters\t(319) 523-8400\n",
      "Paloma Tyler\t(709) 788-9820\n",
      "Carolyn Peck\t(878) 309-5141\n",
      "Aliana Murillo\t(681) 897-9813\n",
      "Harold Stark\t(995) 575-6794\n",
      "Tomas Acevedo\t(526) 889-3684\n",
      "Jayla Whitney\t(790) 295-4491\n",
      "Linda Casey\t(596) 279-2188\n",
      "Shelby Gutierrez\t(266) 441-0506\n",
      "Scarlett Pugh\t(205) 887-2552\n",
      "Tobias Joseph\t(894) 486-4422\n",
      "Meadow Pennington\t(789) 483-7632\n",
      "Jeremy Tucker\t(768) 454-3347\n",
      "Giovani Hill\t(859) 512-3285\n",
      "Lorelei Chase\t(527) 510-6364\n",
      "Anabella Wolf\t(370) 917-1457\n",
      "Dominick Cobb\t(831) 874-8695\n",
      "Ismael Montoya\t(397) 258-5867\n",
      "Charles Santiago\t(804) 306-7622\n",
      "Eva Galvan\t(836) 732-4963\n",
      "Branden Cantu\t(862) 408-5783\n",
      "Patricia Dodson\t(685) 849-8192\n",
      "Marina Chan\t(600) 464-2106\n",
      "\n"
     ]
    }
   ],
   "source": [
    "print(string)"
   ]
  },
  {
   "cell_type": "code",
   "execution_count": 11,
   "metadata": {},
   "outputs": [],
   "source": [
    "# Structure\n",
    "\n",
    "# Each entry is on seperate line\n",
    "# Each line starts with first and last name of the person\n",
    "# Followed by tab\n",
    "# followed by Area codre inside the bracket\n",
    "# then space and Phone number"
   ]
  },
  {
   "cell_type": "code",
   "execution_count": 19,
   "metadata": {},
   "outputs": [
    {
     "data": {
      "text/plain": [
       "['Zion Martinez',\n",
       " 'Moriah Velez',\n",
       " 'Jenna Peterson',\n",
       " 'Ayaan Novak',\n",
       " 'Elena Sosa',\n",
       " 'Taniyah Lucas',\n",
       " 'Maritza Ramos',\n",
       " 'Maryjane Velazquez',\n",
       " 'Oliver Cooper',\n",
       " 'Max Bridges',\n",
       " 'Craig Sutton',\n",
       " 'Emilie Good',\n",
       " 'Alexis Rowe',\n",
       " 'Maxwell Rose',\n",
       " 'Davin Carroll',\n",
       " 'Riya Foster',\n",
       " 'Kymani Pena',\n",
       " 'Josie Lloyd',\n",
       " 'Amy Fowler',\n",
       " 'Zion Strickland',\n",
       " 'Jermaine Roy',\n",
       " 'Sasha Duncan',\n",
       " 'Guillermo Pacheco',\n",
       " 'Mohammad Tapia',\n",
       " 'Samir Mcdonald',\n",
       " 'Sidney Mcdaniel',\n",
       " 'Cameron Terry',\n",
       " 'Kyla Waters',\n",
       " 'Paloma Tyler',\n",
       " 'Carolyn Peck',\n",
       " 'Aliana Murillo',\n",
       " 'Harold Stark',\n",
       " 'Tomas Acevedo',\n",
       " 'Jayla Whitney',\n",
       " 'Linda Casey',\n",
       " 'Shelby Gutierrez',\n",
       " 'Scarlett Pugh',\n",
       " 'Tobias Joseph',\n",
       " 'Meadow Pennington',\n",
       " 'Jeremy Tucker',\n",
       " 'Giovani Hill',\n",
       " 'Lorelei Chase',\n",
       " 'Anabella Wolf',\n",
       " 'Dominick Cobb',\n",
       " 'Ismael Montoya',\n",
       " 'Charles Santiago',\n",
       " 'Eva Galvan',\n",
       " 'Branden Cantu',\n",
       " 'Patricia Dodson',\n",
       " 'Marina Chan']"
      ]
     },
     "execution_count": 19,
     "metadata": {},
     "output_type": "execute_result"
    }
   ],
   "source": [
    "# All the Contact name\n",
    "\n",
    "re.findall(r'\\w[A-Za-z]+\\s\\w[A-Za-z]+',string)"
   ]
  },
  {
   "cell_type": "code",
   "execution_count": 30,
   "metadata": {},
   "outputs": [
    {
     "data": {
      "text/plain": [
       "['631',\n",
       " '201',\n",
       " '355',\n",
       " '812',\n",
       " '504',\n",
       " '949',\n",
       " '295',\n",
       " '409',\n",
       " '917',\n",
       " '665',\n",
       " '783',\n",
       " '608',\n",
       " '357',\n",
       " '366',\n",
       " '508',\n",
       " '461',\n",
       " '366',\n",
       " '676',\n",
       " '630',\n",
       " '443',\n",
       " '576',\n",
       " '379',\n",
       " '922',\n",
       " '969',\n",
       " '546',\n",
       " '783',\n",
       " '540',\n",
       " '319',\n",
       " '709',\n",
       " '878',\n",
       " '681',\n",
       " '995',\n",
       " '526',\n",
       " '790',\n",
       " '596',\n",
       " '266',\n",
       " '205',\n",
       " '894',\n",
       " '789',\n",
       " '768',\n",
       " '859',\n",
       " '527',\n",
       " '370',\n",
       " '831',\n",
       " '397',\n",
       " '804',\n",
       " '836',\n",
       " '862',\n",
       " '685',\n",
       " '600']"
      ]
     },
     "execution_count": 30,
     "metadata": {},
     "output_type": "execute_result"
    }
   ],
   "source": [
    "# Area code\n",
    "re.findall(r'(?:\\()(\\d{3})(?:\\))',string)"
   ]
  },
  {
   "cell_type": "code",
   "execution_count": 33,
   "metadata": {},
   "outputs": [
    {
     "data": {
      "text/plain": [
       "['472-4834',\n",
       " '684-8134',\n",
       " '554-9561',\n",
       " '883-7304',\n",
       " '478-1208',\n",
       " '304-4647',\n",
       " '931-1193',\n",
       " '441-2612',\n",
       " '965-9749',\n",
       " '245-0683',\n",
       " '281-6115',\n",
       " '628-4088',\n",
       " '540-2991',\n",
       " '809-5605',\n",
       " '291-1622',\n",
       " '532-0795',\n",
       " '683-3252',\n",
       " '509-5720',\n",
       " '821-5787',\n",
       " '372-0040',\n",
       " '876-2490',\n",
       " '596-5662',\n",
       " '634-5795',\n",
       " '831-7093',\n",
       " '420-0881',\n",
       " '705-9254',\n",
       " '878-9323',\n",
       " '523-8400',\n",
       " '788-9820',\n",
       " '309-5141',\n",
       " '897-9813',\n",
       " '575-6794',\n",
       " '889-3684',\n",
       " '295-4491',\n",
       " '279-2188',\n",
       " '441-0506',\n",
       " '887-2552',\n",
       " '486-4422',\n",
       " '483-7632',\n",
       " '454-3347',\n",
       " '512-3285',\n",
       " '510-6364',\n",
       " '917-1457',\n",
       " '874-8695',\n",
       " '258-5867',\n",
       " '306-7622',\n",
       " '732-4963',\n",
       " '408-5783',\n",
       " '849-8192',\n",
       " '464-2106']"
      ]
     },
     "execution_count": 33,
     "metadata": {},
     "output_type": "execute_result"
    }
   ],
   "source": [
    "# Phone number\n",
    "re.findall(r'\\d{3}-\\d{4}',string)"
   ]
  },
  {
   "cell_type": "code",
   "execution_count": 37,
   "metadata": {},
   "outputs": [
    {
     "data": {
      "text/plain": [
       "[('Fowler', '821-5787'),\n",
       " ('Terry', '878-9323'),\n",
       " ('Whitney', '295-4491'),\n",
       " ('Wolf', '917-1457'),\n",
       " ('Chan', '464-2106')]"
      ]
     },
     "execution_count": 37,
     "metadata": {},
     "output_type": "execute_result"
    }
   ],
   "source": [
    "# Last name of the person and phone number whose area code ends with 0\n",
    "\n",
    "re.findall(r'.+? (.+?)\\t\\(\\d\\d0\\)\\s(\\d{3}-\\d{4})',string)\n"
   ]
  },
  {
   "cell_type": "code",
   "execution_count": 41,
   "metadata": {},
   "outputs": [
    {
     "data": {
      "text/plain": [
       "['949', '630', '768', '370', '397']"
      ]
     },
     "execution_count": 41,
     "metadata": {},
     "output_type": "execute_result"
    }
   ],
   "source": [
    "# Get area code of each phone number that ends with 7\n",
    "\n",
    "re.findall(r'\\((\\d{3})\\)\\s\\d{3}-\\d{3}7',string)"
   ]
  },
  {
   "cell_type": "code",
   "execution_count": 51,
   "metadata": {},
   "outputs": [
    {
     "data": {
      "text/plain": [
       "[('Jenna Peterson', '554-9561'),\n",
       " ('Taniyah Lucas', '304-4647'),\n",
       " ('Maritza Ramos', '931-1193'),\n",
       " ('Oliver Cooper', '965-9749'),\n",
       " ('Alexis Rowe', '540-2991'),\n",
       " ('Riya Foster', '532-0795'),\n",
       " ('Josie Lloyd', '509-5720'),\n",
       " ('Zion Strickland', '372-0040'),\n",
       " ('Sasha Duncan', '596-5662'),\n",
       " ('Sidney Mcdaniel', '705-9254'),\n",
       " ('Kyla Waters', '523-8400'),\n",
       " ('Paloma Tyler', '788-9820'),\n",
       " ('Carolyn Peck', '309-5141'),\n",
       " ('Harold Stark', '575-6794'),\n",
       " ('Giovani Hill', '512-3285'),\n",
       " ('Lorelei Chase', '510-6364'),\n",
       " ('Anabella Wolf', '917-1457'),\n",
       " ('Charles Santiago', '306-7622'),\n",
       " ('Eva Galvan', '732-4963')]"
      ]
     },
     "execution_count": 51,
     "metadata": {},
     "output_type": "execute_result"
    }
   ],
   "source": [
    "# Match all person names(first and last name) whose phone number starts with odd number\n",
    "\n",
    "re.findall(r'(.+? .+?)\\t\\(\\d{3}\\)\\s([13579]\\d{2}-\\d{4})',string)"
   ]
  },
  {
   "cell_type": "code",
   "execution_count": 52,
   "metadata": {},
   "outputs": [
    {
     "data": {
      "text/plain": [
       "['Jenna Peterson',\n",
       " 'Taniyah Lucas',\n",
       " 'Maritza Ramos',\n",
       " 'Oliver Cooper',\n",
       " 'Alexis Rowe',\n",
       " 'Riya Foster',\n",
       " 'Josie Lloyd',\n",
       " 'Zion Strickland',\n",
       " 'Sasha Duncan',\n",
       " 'Sidney Mcdaniel',\n",
       " 'Kyla Waters',\n",
       " 'Paloma Tyler',\n",
       " 'Carolyn Peck',\n",
       " 'Harold Stark',\n",
       " 'Giovani Hill',\n",
       " 'Lorelei Chase',\n",
       " 'Anabella Wolf',\n",
       " 'Charles Santiago',\n",
       " 'Eva Galvan']"
      ]
     },
     "execution_count": 52,
     "metadata": {},
     "output_type": "execute_result"
    }
   ],
   "source": [
    "# Only Name whose phone number starts with odd number\n",
    "re.findall(r'(.+? .+?)\\t\\(\\d{3}\\)\\s(?:[13579]\\d{2}-\\d{4})',string)"
   ]
  },
  {
   "cell_type": "code",
   "execution_count": 56,
   "metadata": {},
   "outputs": [
    {
     "data": {
      "text/plain": [
       "['Moriah', 'Maritza', 'Shelby', 'Scarlett']"
      ]
     },
     "execution_count": 56,
     "metadata": {},
     "output_type": "execute_result"
    }
   ],
   "source": [
    "# First name for those whose area code less than 300\n",
    "\n",
    "re.findall(r'(.+?) (?:.+?)\\t\\([0-2]\\d{2}\\)',string)"
   ]
  },
  {
   "cell_type": "code",
   "execution_count": 64,
   "metadata": {},
   "outputs": [
    {
     "data": {
      "text/plain": [
       "['Ismael']"
      ]
     },
     "execution_count": 64,
     "metadata": {},
     "output_type": "execute_result"
    }
   ],
   "source": [
    " re.findall(r\"(.+) .+[aeiou]\\t\\(\\d{3}\\) .{7}[079]\", string)"
   ]
  },
  {
   "cell_type": "code",
   "execution_count": null,
   "metadata": {},
   "outputs": [],
   "source": []
  },
  {
   "cell_type": "code",
   "execution_count": null,
   "metadata": {},
   "outputs": [],
   "source": []
  }
 ],
 "metadata": {
  "kernelspec": {
   "display_name": "Python 3",
   "language": "python",
   "name": "python3"
  },
  "language_info": {
   "codemirror_mode": {
    "name": "ipython",
    "version": 3
   },
   "file_extension": ".py",
   "mimetype": "text/x-python",
   "name": "python",
   "nbconvert_exporter": "python",
   "pygments_lexer": "ipython3",
   "version": "3.7.6"
  }
 },
 "nbformat": 4,
 "nbformat_minor": 4
}
