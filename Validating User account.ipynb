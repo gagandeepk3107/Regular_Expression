{
 "cells": [
  {
   "cell_type": "markdown",
   "metadata": {},
   "source": [
    "## Validating User account\n",
    "\n",
    "\n",
    "\n",
    "#### First Name:\n",
    "\n",
    "Does not contain any other characters besides letters.\n",
    "\n",
    "It starts with a capital letter and all the other letters are lowercase.\n",
    "\n",
    "Is at least 2 characters long.\n",
    "\n",
    "\n",
    "\n",
    "#### Last Name:\n",
    "\n",
    "Does not contain any other characters besides letters.\n",
    "\n",
    "It starts with a capital letter and all the other letters are lowercase.\n",
    "\n",
    "Is at least 2 characters long.\n",
    "\n",
    "\n",
    "\n",
    "#### Date of birth:\n",
    "\n",
    "The person was born before January 1st 2002.\n",
    "\n",
    "Contains only digits and forward slashes.\n",
    "\n",
    "Follows the format MM/DD/YYYY\n",
    "\n",
    "\n",
    "\n",
    "#### Email address:\n",
    "\n",
    "Follows the correct format: username@domain.extension\n",
    "\n",
    "The username may contain only letters, digits, dots or the underscore character.\n",
    "\n",
    "The domain may contain only lowercase letters.\n",
    "\n",
    "The extension may contain only 2, 3 or 4 lowercase letters.\n",
    "\n",
    "\n",
    "\n",
    "#### Username:\n",
    "\n",
    "Does not contain any other characters besides letters, digits or the underscore character.\n",
    "\n",
    "Has a minimum of 6 characters and a maximum of 12 characters.\n",
    "\n",
    "\n",
    "\n",
    "#### Password:\n",
    "\n",
    "Is at least 8 characters long.\n",
    "\n",
    "Starts with a lowercase letter.\n",
    "\n",
    "Should contain at least one lowercase letter, one uppercase letter, one digit and one of the following characters: $, &, ?, ! or %.\n",
    "\n",
    "\n",
    "\n",
    "#### Credit card number:\n",
    "\n",
    "The card should be issued by Visa or Mastercard only (starting with a 4 or a 5).\n",
    "\n",
    "It is exactly 16 digits long and contains no other characters besides digits.\n",
    "\n",
    "\n",
    "\n",
    "#### Credit card expiration date:\n",
    "\n",
    "Is not sooner than May 2024 inclusively.\n",
    "\n",
    "Contains only digits and forward slashes.\n",
    "\n",
    "Follows the format MM/YY\n",
    "\n",
    "\n",
    "\n",
    "Credit card verification code / verification value (CVC / CVV):\n",
    "\n",
    "Is a 3 digit number, does not contain any other characters.\n",
    "\n"
   ]
  },
  {
   "cell_type": "code",
   "execution_count": 10,
   "metadata": {},
   "outputs": [],
   "source": [
    "import re"
   ]
  },
  {
   "cell_type": "code",
   "execution_count": 11,
   "metadata": {},
   "outputs": [
    {
     "name": "stdout",
     "output_type": "stream",
     "text": [
      "\n",
      "Please enter your First Name: Prajwal\n"
     ]
    }
   ],
   "source": [
    "#Asking the user for the first name and checking the format\n",
    "while True:\n",
    "    fname = input(\"\\nPlease enter your First Name: \")\n",
    "\n",
    "    check = re.fullmatch(r\"[A-Z][a-z]+\", fname)\n",
    "\n",
    "    if check == None:\n",
    "        print(\"Wrong format! Please try again.\")\n",
    "        continue\n",
    "    else:\n",
    "        break"
   ]
  },
  {
   "cell_type": "code",
   "execution_count": 12,
   "metadata": {},
   "outputs": [
    {
     "name": "stdout",
     "output_type": "stream",
     "text": [
      "\n",
      "Please enter your Last Name: Devraj\n"
     ]
    }
   ],
   "source": [
    "#Asking the user for the last name and checking the format\n",
    "while True:\n",
    "    lname = input(\"\\nPlease enter your Last Name: \")\n",
    "    \n",
    "    check = re.fullmatch(r\"[A-Z][a-z]+\", lname)\n",
    "\n",
    "    if check == None:\n",
    "        print(\"Wrong format! Please try again.\")\n",
    "        continue\n",
    "    else:\n",
    "        break"
   ]
  },
  {
   "cell_type": "code",
   "execution_count": 13,
   "metadata": {},
   "outputs": [
    {
     "name": "stdout",
     "output_type": "stream",
     "text": [
      "\n",
      "Please enter your Date of Birth (mm/dd/yyyy): 12/07/1978\n"
     ]
    }
   ],
   "source": [
    "\n",
    "#Asking the user for the date of birth and checking the format\n",
    "while True:\n",
    "    date = input(\"\\nPlease enter your Date of Birth (mm/dd/yyyy): \")\n",
    "    #(0[1-9]|1[0-2])/(0[1-9]|[12]\\d|3[01])/(19[0-9][0-9]|200[01])\n",
    "    check = re.fullmatch(r\"(0[1-9]|1[0-2])/([0-2][0-9]|3[01])/(19[0-9][0-9]|200[01])\", date)\n",
    "\n",
    "    if check == None:\n",
    "        print(\"Wrong format! Please try again.\")\n",
    "        continue\n",
    "    else:\n",
    "        break"
   ]
  },
  {
   "cell_type": "code",
   "execution_count": 14,
   "metadata": {},
   "outputs": [
    {
     "name": "stdout",
     "output_type": "stream",
     "text": [
      "\n",
      "Please enter your Email Address: prajwal@gmail.com\n"
     ]
    }
   ],
   "source": [
    "# Asking the user for the email address and checking the format\n",
    "while True:\n",
    "    email = input(\"\\nPlease enter your Email Address: \")\n",
    "    \n",
    "    check = re.fullmatch(r\"(\\w|\\.)+@[a-z]+\\.[a-z]{2,4}\", email)\n",
    "\n",
    "    if check == None:\n",
    "        print(\"Wrong format! Please try again.\")\n",
    "        continue\n",
    "    else:\n",
    "        break"
   ]
  },
  {
   "cell_type": "code",
   "execution_count": 15,
   "metadata": {},
   "outputs": [
    {
     "name": "stdout",
     "output_type": "stream",
     "text": [
      "\n",
      "Please enter your Username: praju123\n"
     ]
    }
   ],
   "source": [
    "#Asking the user for the username and checking the format\n",
    "while True:\n",
    "    user = input(\"\\nPlease enter your Username: \")\n",
    "    \n",
    "    check = re.fullmatch(r\"\\w{6,12}\", user)\n",
    "\n",
    "    if check == None:\n",
    "        print(\"Wrong format! Please try again.\")\n",
    "        continue\n",
    "    else:\n",
    "        break"
   ]
  },
  {
   "cell_type": "code",
   "execution_count": 16,
   "metadata": {},
   "outputs": [
    {
     "name": "stdout",
     "output_type": "stream",
     "text": [
      "\n",
      "Please enter your Password: Praj12A&&\n",
      "Wrong format! Please try again.\n",
      "\n",
      "Please enter your Password: praJu12&&\n"
     ]
    }
   ],
   "source": [
    "#Asking the user for the password and checking the format\n",
    "while True:\n",
    "    passw = input(\"\\nPlease enter your Password: \")\n",
    "    \n",
    "    check = re.fullmatch(r\"^[a-z](?=.{7,})(?=.*[A-Z])(?=.*\\d)(?=.*[$&?!%])[a-zA-Z0-9$&?!%]+$\", passw)\n",
    "    \n",
    "    if check == None:\n",
    "        print(\"Wrong format! Please try again.\")\n",
    "        continue\n",
    "    else:\n",
    "        break\n"
   ]
  },
  {
   "cell_type": "code",
   "execution_count": 17,
   "metadata": {},
   "outputs": [
    {
     "name": "stdout",
     "output_type": "stream",
     "text": [
      "\n",
      "Please enter your Credit Card Number (no spaces): 43219873675543216\n",
      "Wrong format! Please try again.\n",
      "\n",
      "Please enter your Credit Card Number (no spaces): 4556707765342134\n"
     ]
    }
   ],
   "source": [
    "#Asking the user for the credit card number and checking the format\n",
    "while True:\n",
    "    ccnum = input(\"\\nPlease enter your Credit Card Number (no spaces): \")\n",
    "    \n",
    "    check = re.fullmatch(r\"[45]\\d{15}\", ccnum)\n",
    "    \n",
    "    if check == None:\n",
    "        print(\"Wrong format! Please try again.\")\n",
    "        continue\n",
    "    else:\n",
    "        break"
   ]
  },
  {
   "cell_type": "code",
   "execution_count": 18,
   "metadata": {},
   "outputs": [
    {
     "name": "stdout",
     "output_type": "stream",
     "text": [
      "\n",
      "Please enter your Credit Card Expiration Date (mm/yy): 12/25\n"
     ]
    }
   ],
   "source": [
    "\n",
    "#Asking the user for the credit card expiration date and checking the format\n",
    "while True:\n",
    "    ccdat = input(\"\\nPlease enter your Credit Card Expiration Date (mm/yy): \")\n",
    "    \n",
    "    check = re.fullmatch(r\"(0[5-9]|1[0-2])/24|(0[1-9]|1[0-2])/(2[5-9]|[3-9][0-9])\", ccdat)\n",
    "    \n",
    "    if check == None:\n",
    "        print(\"Wrong format! Please try again.\")\n",
    "        continue\n",
    "    else:\n",
    "        break"
   ]
  },
  {
   "cell_type": "code",
   "execution_count": 19,
   "metadata": {},
   "outputs": [
    {
     "name": "stdout",
     "output_type": "stream",
     "text": [
      "\n",
      "Please enter your Credit Card Verification Code: 324\n"
     ]
    }
   ],
   "source": [
    "\n",
    "#Asking the user for the credit card verification code and checking the format\n",
    "while True:\n",
    "    cccvc = input(\"\\nPlease enter your Credit Card Verification Code: \")\n",
    "    \n",
    "    check = re.fullmatch(r\"\\d{3}\", cccvc)\n",
    "    \n",
    "    if check == None:\n",
    "        print(\"Wrong format! Please try again.\")\n",
    "        continue\n",
    "    else:\n",
    "        break"
   ]
  },
  {
   "cell_type": "code",
   "execution_count": 20,
   "metadata": {},
   "outputs": [
    {
     "name": "stdout",
     "output_type": "stream",
     "text": [
      "This is your user account information: \n",
      "\n",
      "First Name: Prajwal\n",
      "Last Name: Devraj\n",
      "Date of birth: 12/07/1978\n",
      "Email address: prajwal@gmail.com\n",
      "Username: praju123\n",
      "Password: praJu12&&\n",
      "Card number: 4556707765342134\n",
      "Expiration date: 12/25\n",
      "CVC: 324\n"
     ]
    }
   ],
   "source": [
    "\n",
    "\n",
    "\n",
    "\n",
    "userinfo = [\"First Name: \" + fname, \n",
    "            \"Last Name: \" + lname, \n",
    "            \"Date of birth: \" + date, \n",
    "            \"Email address: \" + email, \n",
    "            \"Username: \" + user, \n",
    "            \"Password: \" + passw, \n",
    "            \"Card number: \" + ccnum, \n",
    "            \"Expiration date: \" + ccdat, \n",
    "            \"CVC: \" + cccvc]\n",
    "\n",
    "string = \"\\n\".join(userinfo)\n",
    "\n",
    "print(\"This is your user account information: \\n\\n\" + string)"
   ]
  },
  {
   "cell_type": "code",
   "execution_count": null,
   "metadata": {},
   "outputs": [],
   "source": []
  },
  {
   "cell_type": "code",
   "execution_count": null,
   "metadata": {},
   "outputs": [],
   "source": []
  }
 ],
 "metadata": {
  "kernelspec": {
   "display_name": "Python 3",
   "language": "python",
   "name": "python3"
  },
  "language_info": {
   "codemirror_mode": {
    "name": "ipython",
    "version": 3
   },
   "file_extension": ".py",
   "mimetype": "text/x-python",
   "name": "python",
   "nbconvert_exporter": "python",
   "pygments_lexer": "ipython3",
   "version": "3.7.6"
  }
 },
 "nbformat": 4,
 "nbformat_minor": 4
}
